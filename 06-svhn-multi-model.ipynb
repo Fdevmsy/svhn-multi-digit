{
 "cells": [
  {
   "cell_type": "markdown",
   "metadata": {},
   "source": [
    "# Digit Sequences\n",
    "\n",
    "### Recognizing digit sequences from a simple synthetic dataset using TensorFlow \n",
    "\n",
    "---\n",
    "\n",
    "The following notebook details my implementation of a Convolutional Neural Network to recognize sequences of digits in natural images taken from the SVHN dataset. I have broken the notebook into two parts as TensorFlow programs are usually structured into a **construction phase**, that assembles a graph, and an **execution phase** that uses a session to execute ops in the graph.\n",
    "\n",
    "Let's start by importing some libraries and load our prepared dataset."
   ]
  },
  {
   "cell_type": "code",
   "execution_count": 1,
   "metadata": {
    "collapsed": false
   },
   "outputs": [
    {
     "ename": "ImportError",
     "evalue": "No module named tensorflow",
     "output_type": "error",
     "traceback": [
      "\u001b[1;31m---------------------------------------------------------------------------\u001b[0m",
      "\u001b[1;31mImportError\u001b[0m                               Traceback (most recent call last)",
      "\u001b[1;32m<ipython-input-1-c8f3a801ab84>\u001b[0m in \u001b[0;36m<module>\u001b[1;34m()\u001b[0m\n\u001b[0;32m      1\u001b[0m \u001b[1;32mimport\u001b[0m \u001b[0mh5py\u001b[0m\u001b[1;33m\u001b[0m\u001b[0m\n\u001b[0;32m      2\u001b[0m \u001b[1;32mimport\u001b[0m \u001b[0mmatplotlib\u001b[0m\u001b[1;33m.\u001b[0m\u001b[0mpyplot\u001b[0m \u001b[1;32mas\u001b[0m \u001b[0mplt\u001b[0m\u001b[1;33m\u001b[0m\u001b[0m\n\u001b[1;32m----> 3\u001b[1;33m \u001b[1;32mimport\u001b[0m \u001b[0mtensorflow\u001b[0m \u001b[1;32mas\u001b[0m \u001b[0mtf\u001b[0m\u001b[1;33m\u001b[0m\u001b[0m\n\u001b[0m\u001b[0;32m      4\u001b[0m \u001b[1;32mimport\u001b[0m \u001b[0mseaborn\u001b[0m \u001b[1;32mas\u001b[0m \u001b[0msns\u001b[0m\u001b[1;33m\u001b[0m\u001b[0m\n\u001b[0;32m      5\u001b[0m \u001b[1;32mimport\u001b[0m \u001b[0mnumpy\u001b[0m \u001b[1;32mas\u001b[0m \u001b[0mnp\u001b[0m\u001b[1;33m\u001b[0m\u001b[0m\n",
      "\u001b[1;31mImportError\u001b[0m: No module named tensorflow"
     ]
    }
   ],
   "source": [
    "import h5py\n",
    "import matplotlib.pyplot as plt\n",
    "import tensorflow as tf\n",
    "import seaborn as sns\n",
    "import numpy as np\n",
    "import time\n",
    "import os\n",
    "from datetime import timedelta\n",
    "\n",
    "%matplotlib inline\n",
    "plt.rcParams['figure.figsize'] = (16.0, 4.0)\n",
    "\n",
    "print(\"Tensorflow version: \" + tf.__version__)"
   ]
  },
  {
   "cell_type": "markdown",
   "metadata": {},
   "source": [
    "## Loading the data\n",
    "\n",
    "Let's load the greyscale images created in our previous notebook"
   ]
  },
  {
   "cell_type": "code",
   "execution_count": 2,
   "metadata": {
    "collapsed": false
   },
   "outputs": [
    {
     "name": "stdout",
     "output_type": "stream",
     "text": [
      "('Training set', (229754, 64, 64, 1), (229754, 5))\n",
      "('Validation set', (6000, 64, 64, 1), (6000, 5))\n",
      "('Test set', (13068, 64, 64, 1), (13068, 5))\n"
     ]
    }
   ],
   "source": [
    "h5f = h5py.File('data/svhn_multi_grey.h5','r')\n",
    "\n",
    "X_train = h5f['train_dataset'][:]\n",
    "y_train = h5f['train_labels'][:]\n",
    "X_test = h5f['valid_dataset'][:]\n",
    "y_test = h5f['valid_labels'][:]\n",
    "X_val = h5f['test_dataset'][:]\n",
    "y_val = h5f['test_labels'][:]\n",
    "\n",
    "print('Training set', X_train.shape, y_train.shape)\n",
    "print('Validation set', X_test.shape, y_test.shape)\n",
    "print('Test set', X_val.shape, y_val.shape)\n",
    "\n",
    "# We processed image size to be 64\n",
    "img_size = X_train.shape[1]\n",
    "\n",
    "# Number of channels\n",
    "num_channels = X_train.shape[3]\n",
    "\n",
    "# Number of digits\n",
    "num_digits = y_train.shape[1]\n",
    "\n",
    "# Number of output labels\n",
    "num_labels = 11\n",
    "\n",
    "h5f.close()"
   ]
  },
  {
   "cell_type": "markdown",
   "metadata": {},
   "source": [
    "### Data Preprocessing\n",
    "\n",
    "A **common pitfall** to watch out for is that any preprocessing statistics (e.g. the data mean) must only be computed on the training data, and then applied to the validation / test data. E.g. computing the mean and subtracting it from every image across the entire dataset and then splitting the data into train/val/test splits would be a mistake. Instead, the mean must be computed only over the training data and then subtracted equally from all splits (train/val/test).\n",
    "\n",
    "#### Mean Subtraction\n",
    "\n",
    "Mean subtraction is the most common form of preprocessing. It involves subtracting the mean across every individual feature in the data, and has the geometric interpretation of centering the cloud of data around the origin along every dimension."
   ]
  },
  {
   "cell_type": "code",
   "execution_count": null,
   "metadata": {
    "collapsed": true
   },
   "outputs": [],
   "source": [
    "# Calculate the mean on the training data\n",
    "train_mean = np.mean(X_train, axis=0)\n",
    "\n",
    "# Subtract it equally from all splits\n",
    "X_train -= train_mean\n",
    "X_test -= train_mean\n",
    "X_val -= train_mean"
   ]
  },
  {
   "cell_type": "markdown",
   "metadata": {},
   "source": [
    "#### Normalization\n",
    "\n",
    "Normalization refers to normalizing the data dimensions so that they are of approximately the same scale. It only makes sense to apply this preprocessing if you have a reason to believe that different input features have different scales (or units), but they should be of approximately equal importance to the learning algorithm"
   ]
  },
  {
   "cell_type": "code",
   "execution_count": null,
   "metadata": {
    "collapsed": true
   },
   "outputs": [],
   "source": [
    "# Calculate the std on the training data\n",
    "train_std = np.std(X_train, axis=0)\n",
    "\n",
    "# Subtract it equally from all splits\n",
    "X_train -= train_std\n",
    "X_test -= train_std\n",
    "X_val -= train_std"
   ]
  },
  {
   "cell_type": "markdown",
   "metadata": {},
   "source": [
    "## Helper functions\n",
    "\n",
    "Let's implement some helper functions to make our notebook easier to read and reduce code duplication.\n",
    "\n",
    "### Helper function for plotting images\n",
    "\n",
    "Here is a simple helper function that will help us plot ``nrows`` * ``ncols`` images and their true and predicted labels."
   ]
  },
  {
   "cell_type": "code",
   "execution_count": 3,
   "metadata": {
    "collapsed": false
   },
   "outputs": [
    {
     "data": {
      "image/png": "[encoded data removed]",
      "text/plain": [
       "<matplotlib.figure.Figure at 0x1207e3e50>"
      ]
     },
     "metadata": {},
     "output_type": "display_data"
    }
   ],
   "source": [
    "def plot_images(images, nrows, ncols, cls_true, cls_pred=None):\n",
    "    \n",
    "    # Initialize figure\n",
    "    fig, axes = plt.subplots(nrows, ncols, figsize=(16, 2*nrows))\n",
    "    \n",
    "    # Randomly select nrows * ncols images\n",
    "    rs = np.random.choice(images.shape[0], nrows*ncols)\n",
    "    \n",
    "    # For every axes object in the grid\n",
    "    for i, ax in zip(rs, axes.flat): \n",
    "        \n",
    "        # Pretty string with actual number\n",
    "        true_number = ''.join(str(x) for x in cls_true[i] if x != 10)\n",
    "        \n",
    "        if cls_pred is None:\n",
    "            title = \"True: {0}\".format(true_number)\n",
    "        else:\n",
    "            # Pretty string with predicted number\n",
    "            pred_number = ''.join(str(x) for x in cls_pred[i] if x != 10)\n",
    "            title = \"True: {0}, Pred: {1}\".format(true_number, pred_number) \n",
    "            \n",
    "        ax.imshow(images[i], cmap='binary')\n",
    "        ax.set_title(title)   \n",
    "        ax.set_xticks([]); ax.set_yticks([])\n",
    "        \n",
    "        \n",
    "# Plot some images from the training set\n",
    "plot_images(X_train, 2, 8, y_train)"
   ]
  },
  {
   "cell_type": "markdown",
   "metadata": {},
   "source": [
    "### Helper functions for creating new variables\n",
    "\n",
    "Functions for creating new [``TensorFlow Variables``](https://www.tensorflow.org/how_tos/variables/) in the given shape and initializing them using a [``clever initialization scheme``](http://jmlr.org/proceedings/papers/v9/glorot10a/glorot10a.pdf)"
   ]
  },
  {
   "cell_type": "code",
   "execution_count": 4,
   "metadata": {
    "collapsed": true
   },
   "outputs": [],
   "source": [
    "def init_conv_weights(name, shape):\n",
    "    \"\"\" Use initialization scheme proposed in Glorot et al.\n",
    "    \"\"\"\n",
    "    return tf.get_variable(name, shape=shape, initializer=tf.contrib.layers.xavier_initializer_conv2d())\n",
    "\n",
    "def init_fc_weights(name, shape):\n",
    "    \"\"\" Use initialization scheme proposed in Glorot et al.\n",
    "    \"\"\"\n",
    "    return tf.get_variable(name, shape=shape, initializer=tf.contrib.layers.xavier_initializer())\n",
    "\n",
    "def init_biases(shape):\n",
    "    \"\"\" We simply use 0 to initialize the biases as it is most commonly used\n",
    "    \"\"\"\n",
    "    return tf.Variable(tf.constant(0.0, shape=shape))"
   ]
  },
  {
   "cell_type": "markdown",
   "metadata": {},
   "source": [
    "### Helper function for stacking CONV-RELU layers followed by an optional POOL layer\n",
    "\n",
    "This function creates a new convolutional layer in the computational graph for TensorFlow. The most common form of a ConvNet architecture stacks a few CONV-RELU layers, follows them with POOL layers, and repeats this pattern until the image has been merged spatially to a small size. At some point it is common to transition to fully connected layers.\n",
    "\n",
    "In other words, the most common ConvNet archiecture follows the pattern:\n",
    "\n",
    "```INPUT > [[CONV -> RELU]*N -> POOL?]M -> [FC -> RELU]*K -> FC```\n",
    "\n",
    "The following helper function simplifies the creation of this pattern"
   ]
  },
  {
   "cell_type": "code",
   "execution_count": 5,
   "metadata": {
    "collapsed": true
   },
   "outputs": [],
   "source": [
    "def conv_layer(input,               # The previous layer\n",
    "                layer_name,         # Layer name\n",
    "                num_input_channels, # Num. channels in prev. layer\n",
    "                filter_size,        # Width and height of each filter\n",
    "                num_filters,        # Number of filters\n",
    "                pooling=True):      # Use 2x2 max-pooling\n",
    "\n",
    "    # Shape of the filter-weights for the convolution\n",
    "    shape = [filter_size, filter_size, num_input_channels, num_filters]\n",
    "    \n",
    "    # Create new filters with the given shape\n",
    "    weights = init_conv_weights(layer_name, shape=shape)\n",
    "    \n",
    "    # Create new biases, one for each filter\n",
    "    biases = init_biases(shape=[num_filters])\n",
    "\n",
    "    # Create the TensorFlow operation for convolution\n",
    "    layer = tf.nn.conv2d(input=input,\n",
    "                         filter=weights,\n",
    "                         strides=[1, 1, 1, 1],\n",
    "                         padding='VALID')\n",
    "\n",
    "    # Add the biases to the results of the convolution\n",
    "    layer += biases\n",
    "    \n",
    "    # Rectified Linear Unit (RELU)\n",
    "    layer = tf.nn.relu(layer)\n",
    "\n",
    "    # Down-sample the image resolution?\n",
    "    if pooling:\n",
    "        layer = tf.nn.max_pool(value=layer,\n",
    "                               ksize=[1, 2, 2, 1],\n",
    "                               strides=[1, 2, 2, 1],\n",
    "                               padding='SAME')\n",
    "\n",
    "    # Return the resulting layer and the filter-weights\n",
    "    return layer, weights"
   ]
  },
  {
   "cell_type": "markdown",
   "metadata": {},
   "source": [
    "### Helper function for reshaping the CONV layers to FC layers\n",
    "\n",
    "A convolutional layer produces an output tensor with 4 dimensions. We will add fully-connected layers after the convolution layers, so we need to reduce the 4-dim tensor to 2-dim which can be used as input to the fully-connected layer. E.g., if the input layer has the shape (?, 8, 8, 32) the flattened layer will have the shape (?, 8 x 8 x 32) or (?, 2048)."
   ]
  },
  {
   "cell_type": "code",
   "execution_count": 6,
   "metadata": {
    "collapsed": true
   },
   "outputs": [],
   "source": [
    "def flatten_layer(layer):\n",
    "    # Get the shape of the input layer.\n",
    "    layer_shape = layer.get_shape()\n",
    "\n",
    "    # The number of features is: img_height * img_width * num_channels\n",
    "    num_features = layer_shape[1:4].num_elements()\n",
    "    \n",
    "    # Reshape the layer to [num_images, num_features].\n",
    "    layer_flat = tf.reshape(layer, [-1, num_features])\n",
    "\n",
    "    # Return the flattened layer and the number of features.\n",
    "    return layer_flat, num_features"
   ]
  },
  {
   "cell_type": "markdown",
   "metadata": {},
   "source": [
    "### Helper function for stacking FC-RELU layers\n",
    "\n",
    "This function creates a new fully-connected layer in the computational graph for TensorFlow. Neurons in a fully connected layer have full connections to all activations in the previous layer, as seen in regular Neural Networks. Their activations can hence be computed with a matrix multiplication followed by a bias offset.\n",
    "\n",
    "As mentioned in previous section most ConvNet architectures follows the following pattern:\n",
    "\n",
    "```INPUT -> [[CONV -> RELU]*N -> POOL?]*M -> [FC -> RELU]*K -> FC```\n",
    "\n",
    "The following helper function will simplify the process of stacking FC and RELU layers"
   ]
  },
  {
   "cell_type": "code",
   "execution_count": 7,
   "metadata": {
    "collapsed": true
   },
   "outputs": [],
   "source": [
    "def fc_layer(input,        # The previous layer\n",
    "             layer_name,   # The layer name\n",
    "             num_inputs,   # Num. inputs from prev. layer\n",
    "             num_outputs,  # Num. outputs\n",
    "             relu=True):   # Use RELU?\n",
    "\n",
    "    # Create new weights and biases.\n",
    "    weights = init_fc_weights(layer_name, [num_inputs, num_outputs])\n",
    "    biases = init_biases([num_outputs])\n",
    "\n",
    "    # Calculate the layer activation\n",
    "    layer = tf.matmul(input, weights) + biases\n",
    "\n",
    "    # Use ReLU?\n",
    "    if relu:\n",
    "        layer = tf.nn.relu(layer)\n",
    "\n",
    "    return layer"
   ]
  },
  {
   "cell_type": "markdown",
   "metadata": {},
   "source": [
    "### Helper function for creating a Softmax Classifier\n",
    "\n",
    "The softmax classifier provides \"probabilities\" for each label. For example if if you have an image the softmax classifier will output the probability of each label e.g., [0.9, 0.09, 0.01] for the classes \"0\", \"1\" and \"2\", which allows us to interpret its confidence in each class. For our particular model we want to output multiple labels and we will therefore have 5 softmax classifiers operating on the same fully-connected layer, each with their individual weights and biases."
   ]
  },
  {
   "cell_type": "code",
   "execution_count": 8,
   "metadata": {
    "collapsed": false
   },
   "outputs": [],
   "source": [
    "def softmax_classifier(input,      # Previous layer\n",
    "                     weight_name,  # Name of variable containing the weights\n",
    "                     num_inputs,   # Number of inputs from previous layer\n",
    "                     num_outputs): # Number of outputs\n",
    "                         \n",
    "    # Create weights and biases\n",
    "    weights = init_fc_weights(weight_name, [num_inputs, num_outputs])\n",
    "    biases = init_biases([num_outputs])\n",
    "    \n",
    "    # Softmax\n",
    "    logits = tf.matmul(input, weights) + biases\n",
    "    \n",
    "    return logits, weights"
   ]
  },
  {
   "cell_type": "markdown",
   "metadata": {},
   "source": [
    "## Tensorflow Model\n",
    "\n",
    "The configuration of the Convolutional Neural Network and data dimensions are defined here for convenience, so you can easily find and change these numbers and re-run the Notebook."
   ]
  },
  {
   "cell_type": "code",
   "execution_count": 9,
   "metadata": {
    "collapsed": false
   },
   "outputs": [],
   "source": [
    "# Image size after cropping\n",
    "img_size_cropped = 54\n",
    "\n",
    "# Convolutional Layer 1\n",
    "filter_size1 = 5          \n",
    "num_filters1 = 16        \n",
    "\n",
    "# Convolutional Layer 2\n",
    "filter_size2 = 5          \n",
    "num_filters2 = 32        \n",
    "\n",
    "# Convolutional Layer 3\n",
    "filter_size3 = 5          \n",
    "num_filters3 = 64         \n",
    "\n",
    "# Fully-connected layer\n",
    "fc_size = 64            "
   ]
  },
  {
   "cell_type": "markdown",
   "metadata": {},
   "source": [
    "### Placeholder Variables\n",
    "\n",
    "Placeholder variables serve as the input to the graph that we may change each time we execute the graph"
   ]
  },
  {
   "cell_type": "code",
   "execution_count": 10,
   "metadata": {
    "collapsed": false
   },
   "outputs": [],
   "source": [
    "# Images placeholder\n",
    "x = tf.placeholder(tf.float32, shape=(None, img_size, img_size, num_channels), name='x')\n",
    "\n",
    "# Labels placeholder\n",
    "y_true = tf.placeholder(tf.int64, shape=[None, num_digits], name='y_true')\n",
    "\n",
    "# To reduce overfitting we apply dropout\n",
    "keep_prob = tf.placeholder(tf.float32)"
   ]
  },
  {
   "cell_type": "markdown",
   "metadata": {},
   "source": [
    "### Pre-processing\n",
    "\n",
    "The following helper functions helps us augment the data, and can be used in the TensorFlow computation graph to preprocess the input images. Data augmentation is used to apply some transformation to the input images without changing the labels and is widely used in practice."
   ]
  },
  {
   "cell_type": "code",
   "execution_count": null,
   "metadata": {
    "collapsed": true
   },
   "outputs": [],
   "source": [
    "def pre_process_image(image, training=False):\n",
    "    \"\"\" Use TensorFlow to apply random data augmentations during training\n",
    "    \"\"\"\n",
    "    if training:\n",
    "        # Randomly crop the input image\n",
    "        image = tf.random_crop(image, size=[img_size_cropped, img_size_cropped, num_channels])\n",
    "\n",
    "        # Randomly adjust hue, contrast and saturation.\n",
    "        image = tf.image.random_hue(image, max_delta=0.05)\n",
    "        image = tf.image.random_contrast(image, lower=0.3, upper=1.0)\n",
    "        image = tf.image.random_brightness(image, max_delta=0.2)\n",
    "        image = tf.image.random_saturation(image, lower=0.0, upper=2.0) \n",
    "        \n",
    "    else:\n",
    "        # Crop the image around the centre \n",
    "        image = tf.image.resize_image_with_crop_or_pad(image, img_size_cropped, img_size_cropped)\n",
    "        \n",
    "    return image\n",
    "\n",
    "\n",
    "def pre_process_images(images, training=False):\n",
    "    \"\"\" Use TensorFlow to loop over the images and preprocess them individually\n",
    "    \"\"\"\n",
    "    return tf.map_fc(lambda: image: pre_process_image(image, training), images)\n",
    "\n",
    "\n",
    "# Create pre-processing graph\n",
    "#preprocessed_images = pre_process_images(images=x, training=True)"
   ]
  },
  {
   "cell_type": "markdown",
   "metadata": {},
   "source": [
    "### Model\n",
    "\n",
    "We implement the following ConvNet architecture:\n",
    "\n",
    "```INPUT -> [CONV -> RELU -> POOL]*2 -> DROPOUT -> FC -> RELU -> OUTPUT LAYER```"
   ]
  },
  {
   "cell_type": "code",
   "execution_count": 2,
   "metadata": {
    "collapsed": false,
    "scrolled": true
   },
   "outputs": [
    {
     "ename": "NameError",
     "evalue": "name 'conv_layer' is not defined",
     "output_type": "error",
     "traceback": [
      "\u001b[1;31m---------------------------------------------------------------------------\u001b[0m",
      "\u001b[1;31mNameError\u001b[0m                                 Traceback (most recent call last)",
      "\u001b[1;32m<ipython-input-2-2ce4d2b748dd>\u001b[0m in \u001b[0;36m<module>\u001b[1;34m()\u001b[0m\n\u001b[0;32m      1\u001b[0m \u001b[1;31m# CONV -> RELU -> POOL\u001b[0m\u001b[1;33m\u001b[0m\u001b[1;33m\u001b[0m\u001b[0m\n\u001b[1;32m----> 2\u001b[1;33m \u001b[0mconv_1\u001b[0m\u001b[1;33m,\u001b[0m \u001b[0mw_c1\u001b[0m \u001b[1;33m=\u001b[0m \u001b[0mconv_layer\u001b[0m\u001b[1;33m(\u001b[0m\u001b[0mx\u001b[0m\u001b[1;33m,\u001b[0m \u001b[1;34m\"w_c1\"\u001b[0m\u001b[1;33m,\u001b[0m \u001b[0mnum_channels\u001b[0m\u001b[1;33m,\u001b[0m \u001b[0mfilter_size1\u001b[0m\u001b[1;33m,\u001b[0m \u001b[0mnum_filters1\u001b[0m\u001b[1;33m,\u001b[0m \u001b[0mpooling\u001b[0m\u001b[1;33m=\u001b[0m\u001b[0mTrue\u001b[0m\u001b[1;33m)\u001b[0m\u001b[1;33m\u001b[0m\u001b[0m\n\u001b[0m\u001b[0;32m      3\u001b[0m \u001b[1;33m\u001b[0m\u001b[0m\n\u001b[0;32m      4\u001b[0m \u001b[1;31m# CONV -> RELU -> POOL\u001b[0m\u001b[1;33m\u001b[0m\u001b[1;33m\u001b[0m\u001b[0m\n\u001b[0;32m      5\u001b[0m \u001b[0mconv_2\u001b[0m\u001b[1;33m,\u001b[0m \u001b[0mw_c2\u001b[0m \u001b[1;33m=\u001b[0m \u001b[0mconv_layer\u001b[0m\u001b[1;33m(\u001b[0m\u001b[0mconv_1\u001b[0m\u001b[1;33m,\u001b[0m \u001b[1;34m\"w_c2\"\u001b[0m\u001b[1;33m,\u001b[0m \u001b[0mnum_filters1\u001b[0m\u001b[1;33m,\u001b[0m \u001b[0mfilter_size2\u001b[0m\u001b[1;33m,\u001b[0m \u001b[0mnum_filters2\u001b[0m\u001b[1;33m,\u001b[0m \u001b[0mpooling\u001b[0m\u001b[1;33m=\u001b[0m\u001b[0mTrue\u001b[0m\u001b[1;33m)\u001b[0m\u001b[1;33m\u001b[0m\u001b[0m\n",
      "\u001b[1;31mNameError\u001b[0m: name 'conv_layer' is not defined"
     ]
    }
   ],
   "source": [
    "# CONV -> RELU -> POOL\n",
    "conv_1, w_c1 = conv_layer(x, \"w_c1\", num_channels, filter_size1, num_filters1, pooling=True)\n",
    "\n",
    "# CONV -> RELU -> POOL\n",
    "conv_2, w_c2 = conv_layer(conv_1, \"w_c2\", num_filters1, filter_size2, num_filters2, pooling=True)\n",
    "\n",
    "# DROPOUT\n",
    "dropout = tf.nn.dropout(conv_2, keep_prob)\n",
    "\n",
    "# CONV -> FC conversions\n",
    "flat, size = flatten_layer(dropout)\n",
    "\n",
    "# FC -> RELU\n",
    "fc_1 = fc_layer(flat, 'w_fc1', size, fc_size, relu=True)\n",
    "\n",
    "# OUTPUT LAYER\n",
    "logits_1, w_s1 = softmax_classifier(fc_1, 'w_s1', fc_size, num_labels)\n",
    "logits_2, w_s2 = softmax_classifier(fc_1, 'w_s2', fc_size, num_labels)\n",
    "logits_3, w_s3 = softmax_classifier(fc_1, 'w_s3', fc_size, num_labels)\n",
    "logits_4, w_s4 = softmax_classifier(fc_1, 'w_s4', fc_size, num_labels)\n",
    "logits_5, w_s5 = softmax_classifier(fc_1, 'w_s5', fc_size, num_labels)\n",
    "\n",
    "y_pred = tf.pack([logits_1, logits_2, logits_3, logits_4, logits_5])\n",
    "\n",
    "# The class-number is the index of the largest element\n",
    "y_pred_cls = tf.transpose(tf.argmax(y_pred, dimension=2))"
   ]
  },
  {
   "cell_type": "markdown",
   "metadata": {},
   "source": [
    "### Loss Function\n",
    "\n",
    "The data loss takes the form of an average over the data losses for every individual example. The  ``tf.nn.softmax_cross_entropy_with_logits`` function computes the cross entropy of the result after applying the softmax function"
   ]
  },
  {
   "cell_type": "code",
   "execution_count": 13,
   "metadata": {
    "collapsed": false
   },
   "outputs": [],
   "source": [
    "# Calculate the loss for each individual digit in the sequence\n",
    "loss1 = tf.reduce_mean(tf.nn.sparse_softmax_cross_entropy_with_logits(logits_1, y_true[:, 0]))\n",
    "loss2 = tf.reduce_mean(tf.nn.sparse_softmax_cross_entropy_with_logits(logits_2, y_true[:, 1]))\n",
    "loss3 = tf.reduce_mean(tf.nn.sparse_softmax_cross_entropy_with_logits(logits_3, y_true[:, 2]))\n",
    "loss4 = tf.reduce_mean(tf.nn.sparse_softmax_cross_entropy_with_logits(logits_4, y_true[:, 3]))\n",
    "loss5 = tf.reduce_mean(tf.nn.sparse_softmax_cross_entropy_with_logits(logits_5, y_true[:, 4]))\n",
    "\n",
    "# Calculate the total loss for all predictions\n",
    "loss = loss1 + loss2 + loss3 + loss4 + loss5"
   ]
  },
  {
   "cell_type": "markdown",
   "metadata": {},
   "source": [
    "### Optimization Method\n",
    "\n",
    "Now that we have a cost measure that must be minimized, we can then create an optimizer. In this case it is the [``AdamOptimizer``](https://www.tensorflow.org/api_docs/python/train/optimizers#AdamOptimizer) which is an advanced form of Gradient Descent. When training a model, it is often recommended to lower the learning rate as the training progresses. This function applies an exponential decay function to a provided initial learning rate."
   ]
  },
  {
   "cell_type": "code",
   "execution_count": 14,
   "metadata": {
    "collapsed": false
   },
   "outputs": [],
   "source": [
    "# Global step is required to compute the decayed learning rate\n",
    "global_step = tf.Variable(0, trainable=False)\n",
    "\n",
    "# Apply exponential decay to the learning rate\n",
    "learning_rate = tf.train.exponential_decay(0.05, global_step, 10000, 0.96, staircase=True)\n",
    "\n",
    "# Construct a new Adam optimizer\n",
    "optimizer = tf.train.AdamOptimizer(learning_rate).minimize(loss, global_step=global_step)"
   ]
  },
  {
   "cell_type": "markdown",
   "metadata": {},
   "source": [
    "### Evaluation Metric\n",
    "\n",
    "To evaluate the performance of our Convolutional Network we calculate the average accuracy across all samples"
   ]
  },
  {
   "cell_type": "code",
   "execution_count": 15,
   "metadata": {
    "collapsed": false
   },
   "outputs": [],
   "source": [
    "''' TODO: Use TensorFlow to implement this!\n",
    "'''\n",
    "def accuracy(predictions, labels):\n",
    "    return (100.0 * np.sum(predictions == labels) / predictions.shape[1] / predictions.shape[0])"
   ]
  },
  {
   "cell_type": "markdown",
   "metadata": {},
   "source": [
    "### Create TensorFlow Session\n",
    "\n",
    "Once the TensorFlow graph has been created, we have to create a TensorFlow session which is used to execute the graph."
   ]
  },
  {
   "cell_type": "code",
   "execution_count": 16,
   "metadata": {
    "collapsed": false
   },
   "outputs": [],
   "source": [
    "session = tf.Session()"
   ]
  },
  {
   "cell_type": "markdown",
   "metadata": {},
   "source": [
    "The variables for weights and biases must be initialized before we start optimizing them."
   ]
  },
  {
   "cell_type": "code",
   "execution_count": 17,
   "metadata": {
    "collapsed": false
   },
   "outputs": [],
   "source": [
    "session.run(tf.initialize_all_variables())"
   ]
  },
  {
   "cell_type": "markdown",
   "metadata": {},
   "source": [
    "## Optimization\n",
    "\n",
    "There are many images in the training-set. It takes a long time to calculate the gradient of the model using all these images. We therefore only use a small batch of images in each iteration of the optimizer."
   ]
  },
  {
   "cell_type": "code",
   "execution_count": 18,
   "metadata": {
    "collapsed": true
   },
   "outputs": [],
   "source": [
    "# Batch size\n",
    "batch_size = 64\n",
    "\n",
    "# Number of steps between each update\n",
    "display_step = 5\n",
    "\n",
    "# Dropout\n",
    "dropout = 0.9"
   ]
  },
  {
   "cell_type": "markdown",
   "metadata": {},
   "source": [
    "The easiest way to save and restore a model is to use a tf.train.Saver object"
   ]
  },
  {
   "cell_type": "code",
   "execution_count": 19,
   "metadata": {
    "collapsed": false
   },
   "outputs": [],
   "source": [
    "saver = tf.train.Saver()\n",
    "\n",
    "save_dir = 'checkpoints/'\n",
    "\n",
    "# Create directory if it does not exist\n",
    "if not os.path.exists(save_dir):\n",
    "    os.makedirs(save_dir)\n",
    "    \n",
    "save_path = os.path.join(save_dir, 'svhn_multi')\n",
    "\n",
    "#'''If you want to restore model'''\n",
    "#saver.restore(sess=session, save_path=save_path)\n",
    "#print(\"Model restored\")"
   ]
  },
  {
   "cell_type": "markdown",
   "metadata": {},
   "source": [
    "In each iteration, a new batch of data is selected from the training-set and then TensorFlow executes the optimizer using those training samples. The progress is printed every 100 iterations."
   ]
  },
  {
   "cell_type": "code",
   "execution_count": null,
   "metadata": {
    "collapsed": false
   },
   "outputs": [],
   "source": [
    "total_iterations = 0\n",
    "\n",
    "def optimize(num_iterations):\n",
    "    # Ensure we update the global variable rather than a local copy.\n",
    "    global total_iterations\n",
    "\n",
    "    # Start-time used for printing time-usage below.\n",
    "    start_time = time.time()\n",
    "\n",
    "    for step in range(num_iterations):\n",
    "\n",
    "        offset = (step * batch_size) % (y_train.shape[0] - batch_size)\n",
    "        batch_data = X_train[offset:(offset + batch_size), :, :, :]\n",
    "        batch_labels = y_train[offset:(offset + batch_size), :]\n",
    "        \n",
    "        feed_dict_train = {x: batch_data, y_true: batch_labels, keep_prob: dropout}\n",
    "\n",
    "        # Run the optimizer using this batch of training data.\n",
    "        session.run(optimizer, feed_dict=feed_dict_train)\n",
    "\n",
    "        # Print status every x iterations.\n",
    "        if step % display_step == 0:\n",
    "            \n",
    "            # Calculate the accuracy on the training-set.\n",
    "            batch_predictions = session.run(y_pred_cls, feed_dict=feed_dict_train)\n",
    "            print(\"Minibatch accuracy at step %d: %.4f\" % (step, accuracy(batch_predictions, batch_labels)))\n",
    "            \n",
    "            # Calculate the accuracy on the validation-set\n",
    "            val_predictions = session.run(y_pred_cls, {x: X_val, y_true: y_val, keep_prob: 1.})\n",
    "            print(\"Validation accuracy: %.4f\" % accuracy(val_predictions, y_val))\n",
    "\n",
    "    # Update the total number of iterations performed.\n",
    "    total_iterations += num_iterations\n",
    "\n",
    "    # Difference between start and end-times.\n",
    "    time_diff = time.time() - start_time\n",
    "    \n",
    "    # Calculate the accuracy on the test-set\n",
    "    test_predictions = session.run(y_pred_cls, {x: X_test, y_true: y_test, keep_prob: 1.})\n",
    "    \n",
    "    print(\"Test accuracy: %.4f\" % accuracy(test_predictions, y_test))\n",
    "    print(\"Time usage: \" + str(timedelta(seconds=int(round(time_diff)))))\n",
    "    \n",
    "    saver.save(sess=session, save_path=save_path)\n",
    "    print('Model saved in file: {}'.format(save_path))"
   ]
  },
  {
   "cell_type": "markdown",
   "metadata": {},
   "source": [
    "Let's run 100,000 iterations and see how well our model performs."
   ]
  },
  {
   "cell_type": "code",
   "execution_count": null,
   "metadata": {
    "collapsed": false
   },
   "outputs": [
    {
     "name": "stdout",
     "output_type": "stream",
     "text": [
      "Minibatch accuracy at step 0: 56.5625\n"
     ]
    }
   ],
   "source": [
    "optimize(num_iterations=100)"
   ]
  },
  {
   "cell_type": "markdown",
   "metadata": {},
   "source": [
    "### Testset performance\n",
    "\n",
    "Let's plot some of the mis-classified examples in our testset and a confusion matrix showing how well our model is able to predict the different digits."
   ]
  },
  {
   "cell_type": "code",
   "execution_count": null,
   "metadata": {
    "collapsed": false
   },
   "outputs": [],
   "source": [
    "# Generate predictions for the testset\n",
    "test_pred = session.run(y_pred_cls, feed_dict={x: X_test, y_true: y_test, keep_prob: 1.0})\n",
    "\n",
    "test_pred"
   ]
  },
  {
   "cell_type": "markdown",
   "metadata": {},
   "source": [
    "#### Correctly classified images\n",
    "\n",
    "Let's find some correctly classified examples and plot the true and predicted label values"
   ]
  },
  {
   "cell_type": "code",
   "execution_count": null,
   "metadata": {
    "collapsed": false
   },
   "outputs": [],
   "source": [
    "# Find the incorrectly classified examples\n",
    "correct = np.array([(a==b).all() for a, b in zip(test_pred, y_test)])\n",
    "\n",
    "# Select the incorrectly classified examples\n",
    "images = X_test[correct]\n",
    "cls_true = y_test[correct]\n",
    "cls_pred = test_pred[correct]\n",
    "\n",
    "# Plot the mis-classified examples\n",
    "plot_images(images, 6, 6, cls_true, cls_pred);"
   ]
  },
  {
   "cell_type": "markdown",
   "metadata": {},
   "source": [
    "#### Incorrectly classified images\n",
    "\n",
    "Let's invert the boolean array and plot some of the incorrectly classified examples"
   ]
  },
  {
   "cell_type": "code",
   "execution_count": null,
   "metadata": {
    "collapsed": false
   },
   "outputs": [],
   "source": [
    "# Find the incorrectly classified examples\n",
    "incorrect = np.invert(correct)\n",
    "\n",
    "# Select the incorrectly classified examples\n",
    "images = X_test[incorrect]\n",
    "cls_true = y_test[incorrect]\n",
    "cls_pred = test_pred[incorrect]\n",
    "\n",
    "# Plot the mis-classified examples\n",
    "plot_images(images, 6, 6, cls_true, cls_pred);"
   ]
  },
  {
   "cell_type": "markdown",
   "metadata": {},
   "source": [
    "#### Digit sequence lengths impact on performance\n",
    "\n",
    "Let's see how well our model is able to predict the label for different "
   ]
  },
  {
   "cell_type": "code",
   "execution_count": null,
   "metadata": {
    "collapsed": false
   },
   "outputs": [],
   "source": [
    "# Close the session\n",
    "session.close()"
   ]
  }
 ],
 "metadata": {
  "kernelspec": {
   "display_name": "Python 2",
   "language": "python",
   "name": "python2"
  },
  "language_info": {
   "codemirror_mode": {
    "name": "ipython",
    "version": 2
   },
   "file_extension": ".py",
   "mimetype": "text/x-python",
   "name": "python",
   "nbconvert_exporter": "python",
   "pygments_lexer": "ipython2",
   "version": "2.7.11"
  }
 },
 "nbformat": 4,
 "nbformat_minor": 0
}
