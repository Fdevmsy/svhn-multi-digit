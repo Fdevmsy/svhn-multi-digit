{
 "cells": [
  {
   "cell_type": "markdown",
   "metadata": {},
   "source": [
    "# Convolutional Neural Network\n",
    "\n",
    "### The SVHN dataset (32-by-32 images)\n",
    "\n",
    "---\n",
    "\n",
    "The following notebook contains the source-code for my implementation of a simple convolutional neural network on the 32-by-32 images SVHN dataset."
   ]
  },
  {
   "cell_type": "code",
   "execution_count": 12,
   "metadata": {
    "collapsed": false
   },
   "outputs": [],
   "source": [
    "import os\n",
    "import time\n",
    "import math\n",
    "import h5py\n",
    "import numpy as np\n",
    "import tensorflow as tf\n",
    "import matplotlib.pyplot as plt\n",
    "import seaborn as sns\n",
    "from datetime import timedelta\n",
    "\n",
    "%matplotlib inline\n",
    "plt.rcParams['figure.figsize'] = (16.0, 4.0) # Set default figure size\n",
    "\n",
    "print(\"Tensorflow version\", tf.__version__"
   ]
  },
  {
   "cell_type": "markdown",
   "metadata": {},
   "source": [
    "#### Loading the data\n",
    "\n",
    "Let's load the greyscale images created in ``01-svhn-single-preprocessing.ipynb``"
   ]
  },
  {
   "cell_type": "code",
   "execution_count": 14,
   "metadata": {
    "collapsed": false
   },
   "outputs": [
    {
     "name": "stdout",
     "output_type": "stream",
     "text": [
      "('Training set', (598388, 32, 32, 1), (598388, 10))\n",
      "('Test set', (26032, 32, 32, 1), (26032, 10))\n",
      "('Validation set', (6000, 32, 32, 1), (6000, 10))\n"
     ]
    }
   ],
   "source": [
    "# Open the file as readonly\n",
    "h5f = h5py.File('data/SVHN_single_greyscale.h5', 'r')\n",
    "\n",
    "# Load the training, test and validation set\n",
    "X_train = h5f['X_trainset'][:]\n",
    "y_train = h5f['y_train'][:]\n",
    "X_test = h5f['X_testset'][:]\n",
    "y_test = h5f['y_test'][:]\n",
    "X_val = h5f['X_valset'][:]\n",
    "y_val = h5f['y_val'][:]\n",
    "\n",
    "print('Training set', X_train.shape, y_train.shape)\n",
    "print('Test set', X_test.shape, y_test.shape)\n",
    "print('Validation set', X_val.shape, y_val.shape)\n",
    "\n",
    "# Close this file\n",
    "h5f.close()"
   ]
  },
  {
   "cell_type": "markdown",
   "metadata": {},
   "source": [
    "## Helper functions\n",
    "\n",
    "Let's implement some helper functions to make our notebook easier to read and reduce code duplication.\n",
    "\n",
    "### Helper function for plotting images\n",
    "\n",
    "Here is a simple helper function that will help us plot ``nrows`` * ``ncols`` images with their true labels, and predicted labels - if passed to the function."
   ]
  },
  {
   "cell_type": "code",
   "execution_count": 1,
   "metadata": {
    "collapsed": false
   },
   "outputs": [
    {
     "ename": "NameError",
     "evalue": "name 'X_train' is not defined",
     "output_type": "error",
     "traceback": [
      "\u001b[1;31m---------------------------------------------------------------------------\u001b[0m",
      "\u001b[1;31mNameError\u001b[0m                                 Traceback (most recent call last)",
      "\u001b[1;32m<ipython-input-1-36fbb9c5b33a>\u001b[0m in \u001b[0;36m<module>\u001b[1;34m()\u001b[0m\n\u001b[0;32m     21\u001b[0m \u001b[1;33m\u001b[0m\u001b[0m\n\u001b[0;32m     22\u001b[0m \u001b[1;31m# Plot the images\u001b[0m\u001b[1;33m\u001b[0m\u001b[1;33m\u001b[0m\u001b[0m\n\u001b[1;32m---> 23\u001b[1;33m \u001b[0mplot_images\u001b[0m\u001b[1;33m(\u001b[0m\u001b[0mX_train\u001b[0m\u001b[1;33m,\u001b[0m \u001b[1;36m2\u001b[0m\u001b[1;33m,\u001b[0m \u001b[1;36m9\u001b[0m\u001b[1;33m,\u001b[0m \u001b[0my_train\u001b[0m\u001b[1;33m)\u001b[0m\u001b[1;33m;\u001b[0m\u001b[1;33m\u001b[0m\u001b[0m\n\u001b[0m",
      "\u001b[1;31mNameError\u001b[0m: name 'X_train' is not defined"
     ]
    }
   ],
   "source": [
    "def plot_images(images, nrows, ncols, cls_true, cls_pred=None):\n",
    "    \"\"\" Plot nrows * ncols images from images and annotate the images\n",
    "    \"\"\"\n",
    "    # Initialize the subplotgrid\n",
    "    fig, axes = plt.subplots(nrows, ncols)\n",
    "    \n",
    "    # Randomly select nrows * ncols images\n",
    "    rs = np.random.choice(images.shape[0], nrows*ncols)\n",
    "    \n",
    "    # For every axes object in the grid\n",
    "    for i, ax in zip(axes.flat, rs): \n",
    "        \n",
    "        # Predictions are not passed\n",
    "        if cls_pred is None:\n",
    "            title = \"True: {0}\".format(np.argmax(cls_true[i]))\n",
    "        \n",
    "        # When predictions are passed, display labels + predictions\n",
    "        else:\n",
    "            title = \"True: {0}, Pred: {1}\".format(np.argmax(cls_true[i]), cls_pred[i])  \n",
    "            \n",
    "        # Display the image\n",
    "        ax.imshow(images[i,:,:,0], cmap='binary')\n",
    "        \n",
    "        # Annotate the image\n",
    "        ax.set_title(title)\n",
    "        \n",
    "        # Do not overlay a grid\n",
    "        ax.set_xticks([])\n",
    "        ax.set_yticks([])\n",
    "        \n",
    "        \n",
    "# Plot 2 rows with 9 images each from the training set\n",
    "plot_images(X_train, 2, 9, y_train);"
   ]
  },
  {
   "cell_type": "markdown",
   "metadata": {},
   "source": [
    "### Helper functions for creating new variables\n",
    "\n",
    "Functions for creating new [``TensorFlow Variables``](https://www.tensorflow.org/how_tos/variables/) in the given shape and initializing them with random values. Note that the initialization is not actually done at this point, it is merely being defined in the TensorFlow graph."
   ]
  },
  {
   "cell_type": "code",
   "execution_count": 16,
   "metadata": {
    "collapsed": true
   },
   "outputs": [],
   "source": [
    "def conv_weight_variable(layer_name, shape):\n",
    "    \"\"\" Retrieve an existing variable with the given layer name \n",
    "    \"\"\"\n",
    "    return tf.get_variable(layer_name, shape=shape, initializer=tf.contrib.layers.xavier_initializer_conv2d())\n",
    "\n",
    "def fc_weight_variable(layer_name, shape):\n",
    "    \"\"\" Retrieve an existing variable with the given layer name\n",
    "    \"\"\"\n",
    "    return tf.get_variable(layer_name, shape=shape, initializer=tf.contrib.layers.xavier_initializer())\n",
    "\n",
    "def bias_variable(shape):\n",
    "    \"\"\" Creates a new bias variable\n",
    "    \"\"\"\n",
    "    return tf.Variable(tf.constant(1.0, shape=shape))"
   ]
  },
  {
   "cell_type": "markdown",
   "metadata": {},
   "source": [
    "### Helper function for stacking CONV-RELU layers followed by an optional POOL layer\n",
    "\n",
    "This function creates a new convolutional layer in the computational graph for TensorFlow. The most common form of a ConvNet architecture stacks a few CONV-RELU layers, follows them with POOL layers, and repeats this pattern until the image has been merged spatially to a small size. At some point it is common to transition to fully connected layers.\n",
    "\n",
    "In other words, the most common ConvNet archiecture follows the pattern:\n",
    "\n",
    "```INPUT > [[CONV -> RELU]*N -> POOL?]M -> [FC -> RELU]*K -> FC```\n",
    "\n",
    "The following helper function simplifies the creation of this pattern"
   ]
  },
  {
   "cell_type": "code",
   "execution_count": 17,
   "metadata": {
    "collapsed": true
   },
   "outputs": [],
   "source": [
    "def conv_layer(input,               # The previous layer\n",
    "                layer_name,         # Layer name\n",
    "                num_input_channels, # Num. channels in prev. layer\n",
    "                filter_size,        # Width and height of each filter\n",
    "                num_filters,        # Number of filters\n",
    "                pooling=True):      # Use 2x2 max-pooling\n",
    "\n",
    "    # Shape of the filter-weights for the convolution\n",
    "    shape = [filter_size, filter_size, num_input_channels, num_filters]\n",
    "\n",
    "    # Create new filters with the given shape\n",
    "    weights = conv_weight_variable(layer_name, shape=shape)\n",
    "\n",
    "    # Create new biases, one for each filter\n",
    "    biases = bias_variable(length=num_filters)\n",
    "\n",
    "    # Create the TensorFlow operation for convolution\n",
    "    layer = tf.nn.conv2d(input=input,\n",
    "                         filter=weights,\n",
    "                         strides=[1, 1, 1, 1],\n",
    "                         padding='SAME') # with zero padding\n",
    "\n",
    "    # Add the biases to the results of the convolution\n",
    "    layer += biases\n",
    "    \n",
    "    # Rectified Linear Unit (RELU)\n",
    "    layer = tf.nn.relu(layer)\n",
    "\n",
    "    # Down-sample the image resolution?\n",
    "    if pooling:\n",
    "        layer = tf.nn.max_pool(value=layer,\n",
    "                               ksize=[1, 2, 2, 1],\n",
    "                               strides=[1, 2, 2, 1],\n",
    "                               padding='SAME')\n",
    "\n",
    "    # Return the resulting layer and the filter-weights\n",
    "    return layer, weights"
   ]
  },
  {
   "cell_type": "markdown",
   "metadata": {},
   "source": [
    "### Helper function for reshaping the CONV layers to FC layers\n",
    "\n",
    "A convolutional layer produces an output tensor with 4 dimensions. We will add fully-connected layers after the convolution layers, so we need to reduce the 4-dim tensor to 2-dim which can be used as input to the fully-connected layer. E.g., if the input layer has the shape (?, 8, 8, 32) the flattened layer will have the shape (?, 8 x 8 x 32) or (?, 2048)."
   ]
  },
  {
   "cell_type": "code",
   "execution_count": 18,
   "metadata": {
    "collapsed": true
   },
   "outputs": [],
   "source": [
    "def flatten_layer(layer):\n",
    "    # Get the shape of the input layer.\n",
    "    layer_shape = layer.get_shape()\n",
    "\n",
    "    # The number of features is: img_height * img_width * num_channels\n",
    "    num_features = layer_shape[1:4].num_elements()\n",
    "    \n",
    "    # Reshape the layer to [num_images, num_features].\n",
    "    layer_flat = tf.reshape(layer, [-1, num_features])\n",
    "\n",
    "    # Return the flattened layer and the number of features.\n",
    "    return layer_flat, num_features"
   ]
  },
  {
   "cell_type": "markdown",
   "metadata": {},
   "source": [
    "### Helper function for stacking FC-RELU layers\n",
    "\n",
    "This function creates a new fully-connected layer in the computational graph for TensorFlow. Neurons in a fully connected layer have full connections to all activations in the previous layer, as seen in regular Neural Networks. Their activations can hence be computed with a matrix multiplication followed by a bias offset.\n",
    "\n",
    "As mentioned in previous section most ConvNet architectures follows the following pattern:\n",
    "\n",
    "```INPUT > [[CONV -> RELU]*N -> POOL?]M -> [FC -> RELU]*K -> FC```\n",
    "\n",
    "The following helper function will simplify the process of stacking the last layers of the model."
   ]
  },
  {
   "cell_type": "code",
   "execution_count": 19,
   "metadata": {
    "collapsed": true
   },
   "outputs": [],
   "source": [
    "def fc_layer(input,        # The previous layer\n",
    "             layer_name    # The layer name\n",
    "             num_inputs,   # Num. inputs from prev. layer\n",
    "             num_outputs,  # Num. outputs\n",
    "             relu=True):   # Use RELU?\n",
    "\n",
    "    # Create new weights and biases.\n",
    "    weights = fc_weight_variable(layer_name, shape=[num_inputs, num_outputs])\n",
    "    biases = new_biases(length=num_outputs)\n",
    "\n",
    "    # Calculate the layer activation\n",
    "    layer = tf.matmul(input, weights) + biases\n",
    "\n",
    "    # Use ReLU?\n",
    "    if relu:\n",
    "        layer = tf.nn.relu(layer)\n",
    "\n",
    "    return layer"
   ]
  },
  {
   "cell_type": "markdown",
   "metadata": {},
   "source": [
    "## Tensorflow Model\n",
    "\n",
    "The configuration of the Convolutional Neural Network and data dimensions are defined here for convenience, so you can easily find and change these numbers and re-run the Notebook.\n",
    "\n",
    "Let's build our tensorflow graph step-by-step!"
   ]
  },
  {
   "cell_type": "code",
   "execution_count": 21,
   "metadata": {
    "collapsed": true
   },
   "outputs": [],
   "source": [
    "# We know that SVHN images have 32 pixels in each dimension\n",
    "img_size = 32\n",
    "\n",
    "# Greyscale images only have 1 color channel\n",
    "num_channels = 1\n",
    "\n",
    "# Number of classes, one class for each of 10 digits\n",
    "num_classes = 10\n",
    "\n",
    "# Convolutional Layer 1.\n",
    "filter_size1 = 3          # Convolution filters are 5 x 5 pixels.\n",
    "num_filters1 = 32         # There are 16 of these filters.\n",
    "\n",
    "# Convolutional Layer 2.\n",
    "filter_size2 = 3          # Convolution filters are 5 x 5 pixels.\n",
    "num_filters2 = 64         # There are 36 of these filters.\n",
    "\n",
    "# Fully-connected layer.\n",
    "fc_size = 128             # Number of neurons in fully-connected layer."
   ]
  },
  {
   "cell_type": "markdown",
   "metadata": {},
   "source": [
    "### Placeholder Variables\n",
    "\n",
    "Placeholder variables serve as the input to the graph that we may change each time we execute the graph. First we define the placeholder variable for the input images. This allows us to change the images that are input to the TensorFlow graph. This is a so-called tensor, which just means that it is a multi-dimensional vector or matrix."
   ]
  },
  {
   "cell_type": "code",
   "execution_count": 22,
   "metadata": {
    "collapsed": false
   },
   "outputs": [],
   "source": [
    "x = tf.placeholder(tf.float32, shape=(None, img_size, img_size, num_channels), name='x')"
   ]
  },
  {
   "cell_type": "markdown",
   "metadata": {},
   "source": [
    "Next we have the placeholder variable for the true labels associated with the images that were input in the placeholder variable x."
   ]
  },
  {
   "cell_type": "code",
   "execution_count": 23,
   "metadata": {
    "collapsed": true
   },
   "outputs": [],
   "source": [
    "y_true = tf.placeholder(tf.float32, shape=[None, 10], name='y_true')\n",
    "\n",
    "y_true_cls = tf.argmax(y_true, dimension=1)"
   ]
  },
  {
   "cell_type": "markdown",
   "metadata": {},
   "source": [
    "To reduce overfitting, we will apply dropout after the pooling layer. We create a placeholder for the probability that a neuron's output is kept during dropout. This allows us to turn dropout on during training, and turn it off during testing. "
   ]
  },
  {
   "cell_type": "code",
   "execution_count": 3,
   "metadata": {
    "collapsed": false
   },
   "outputs": [
    {
     "ename": "NameError",
     "evalue": "name 'tf' is not defined",
     "output_type": "error",
     "traceback": [
      "\u001b[1;31m---------------------------------------------------------------------------\u001b[0m",
      "\u001b[1;31mNameError\u001b[0m                                 Traceback (most recent call last)",
      "\u001b[1;32m<ipython-input-3-a4fb56624bd7>\u001b[0m in \u001b[0;36m<module>\u001b[1;34m()\u001b[0m\n\u001b[1;32m----> 1\u001b[1;33m \u001b[0mkeep_prob\u001b[0m \u001b[1;33m=\u001b[0m \u001b[0mtf\u001b[0m\u001b[1;33m.\u001b[0m\u001b[0mplaceholder\u001b[0m\u001b[1;33m(\u001b[0m\u001b[0mtf\u001b[0m\u001b[1;33m.\u001b[0m\u001b[0mfloat32\u001b[0m\u001b[1;33m)\u001b[0m\u001b[1;33m\u001b[0m\u001b[0m\n\u001b[0m",
      "\u001b[1;31mNameError\u001b[0m: name 'tf' is not defined"
     ]
    }
   ],
   "source": [
    "keep_prob = tf.placeholder(tf.float32)"
   ]
  },
  {
   "cell_type": "markdown",
   "metadata": {},
   "source": [
    "### ConvNet Architecture\n",
    "\n",
    "Let's implement the following ConvNet architecture based on the layer patterns proposed in the [``CS231n notes``](http://cs231n.github.io/convolutional-networks/#fc):\n",
    "\n",
    "``` INPUT -> [CONV -> RELU -> CONV -> RELU -> POOL] -> DROPOUT -> [FC -> RELU] -> FC ```"
   ]
  },
  {
   "cell_type": "markdown",
   "metadata": {},
   "source": [
    "#### Convolutional Layer 1\n",
    "\n",
    "Create the first convolutional layer. It takes x as input and creates num_filters1 different filters, each having width and height equal to filter_size1. "
   ]
  },
  {
   "cell_type": "code",
   "execution_count": 24,
   "metadata": {
    "collapsed": false
   },
   "outputs": [],
   "source": [
    "conv_1, w_c1 = conv_layer(input=x,\n",
    "                          layer_name=\"conv_1\"\n",
    "                          num_input_channels=num_channels,\n",
    "                          filter_size=filter_size1,\n",
    "                          num_filters=num_filters1, pooling=False)\n",
    "\n",
    "conv_1"
   ]
  },
  {
   "cell_type": "markdown",
   "metadata": {},
   "source": [
    "#### Convolutional Layer 2\n",
    "\n",
    "Create the second convolutional layer, which takes as input the output from the first convolutional layer. The number of input channels corresponds to the number of filters in the first convolutional layer. Finally we wish to down-sample the image so it is half the size by using 2x2 max-pooling."
   ]
  },
  {
   "cell_type": "code",
   "execution_count": 26,
   "metadata": {
    "collapsed": true
   },
   "outputs": [],
   "source": [
    "conv_2, w_c2 = conv_layer(input=conv_1,\n",
    "                          layer_name=\"conv_2\"\n",
    "                          num_input_channels=num_filters1,\n",
    "                          filter_size=filter_size2,\n",
    "                          num_filters=num_filters2,\n",
    "                          pooling=True)\n",
    "\n",
    "# Apply dropout after the pooling operation\n",
    "dropout = tf.nn.dropout(conv_2, keep_prob_1)\n",
    "\n",
    "dropout"
   ]
  },
  {
   "cell_type": "markdown",
   "metadata": {},
   "source": [
    "#### Flatten Layer\n",
    "\n",
    "The convolutional layers output 4-dim tensors. We now wish to use these as input in a fully-connected network, which requires for the tensors to be reshaped or flattened to 2-dim tensors."
   ]
  },
  {
   "cell_type": "code",
   "execution_count": 28,
   "metadata": {
    "collapsed": true
   },
   "outputs": [],
   "source": [
    "layer_flat, num_features = flatten_layer(dropout)\n",
    "\n",
    "layer_flat"
   ]
  },
  {
   "cell_type": "markdown",
   "metadata": {},
   "source": [
    "#### Fully-Connected Layer 1\n",
    "\n",
    "Add a fully-connected layer to the network. The input is the flattened layer from the previous convolution. The number of neurons or nodes in the fully-connected layer is fc_size. ReLU is used so we can learn non-linear relations."
   ]
  },
  {
   "cell_type": "code",
   "execution_count": 30,
   "metadata": {
    "collapsed": true
   },
   "outputs": [],
   "source": [
    "fc_1 = fc_layer(input=layer_flat,\n",
    "                layer_name=\"fc_1\"\n",
    "                num_inputs=num_features,\n",
    "                num_outputs=fc_size,\n",
    "                relu=True)\n",
    "\n",
    "fc_1"
   ]
  },
  {
   "cell_type": "markdown",
   "metadata": {},
   "source": [
    "#### Fully-Connected Layer 2\n",
    "\n",
    "Add another fully-connected layer that outputs vectors of length 10 for determining which of the 10 classes the input image belongs to. Note that ReLU is not used in this layer."
   ]
  },
  {
   "cell_type": "code",
   "execution_count": 32,
   "metadata": {
    "collapsed": false
   },
   "outputs": [],
   "source": [
    "fc_2 = fc_layer(input=fc_1,\n",
    "                layer_name=\"fc_2\"\n",
    "                num_inputs=fc_size,\n",
    "                num_outputs=num_classes,\n",
    "                relu=False)\n",
    "\n",
    "fc_2"
   ]
  },
  {
   "cell_type": "markdown",
   "metadata": {},
   "source": [
    "#### Predicted Class\n",
    "\n",
    "The second fully-connected layer estimates how likely it is that the input image belongs to each of the 10 classes. However, these estimates are a bit rough and difficult to interpret because the numbers may be very small or large, so we want to normalize them so that each element is limited between zero and one and the 10 elements sum to one. This is calculated using the so-called softmax function and the result is stored in y_pred."
   ]
  },
  {
   "cell_type": "code",
   "execution_count": 34,
   "metadata": {
    "collapsed": true
   },
   "outputs": [],
   "source": [
    "y_pred = tf.nn.softmax(fc_2)\n",
    "\n",
    "# The class-number is the index of the largest element.\n",
    "y_pred_cls = tf.argmax(y_pred, dimension=1)"
   ]
  },
  {
   "cell_type": "markdown",
   "metadata": {},
   "source": [
    "### Cost Function\n",
    "\n",
    "To make the model better at classifying the input images, we must somehow change the variables for all the network layers. To do this we first need to know how well the model currently performs by comparing the predicted output of the model y_pred to the desired output y_true.\n",
    "\n",
    "Cross-entropy is a performance measure used in classification. The cross-entropy is a continuous function that is always positive and if the predicted output of the model exactly matches the desired output then the cross-entropy equals zero. The goal of optimization is therefore to minimize the cross-entropy so it gets as close to zero as possible by changing the variables of the network layers."
   ]
  },
  {
   "cell_type": "code",
   "execution_count": 35,
   "metadata": {
    "collapsed": true
   },
   "outputs": [],
   "source": [
    "# Calcualte the cross-entropy\n",
    "cross_entropy = tf.nn.softmax_cross_entropy_with_logits(logits=fc_2, labels=y_true)\n",
    "\n",
    "# Take the average of the cross-entropy for all the image classifications.\n",
    "cost = tf.reduce_mean(cross_entropy)"
   ]
  },
  {
   "cell_type": "markdown",
   "metadata": {},
   "source": [
    "### Optimization Method\n",
    "\n",
    "Now that we have a cost measure that must be minimized, we can then create an optimizer. In this case it is the [``AdamOptimizer``](https://www.tensorflow.org/api_docs/python/train/optimizers#AdamOptimizer) which is an advanced form of Gradient Descent. In training deep networks, it is usually helpful to anneal the learning rate over time. There are three common types of implementing the learning rate decay. Here we will use **exponential decay** which has the mathematical form $\\alpha = \\alpha_0 / (1 + k_t)$ where $a_0, k$ are hyperparameters and $t$ is the iteration number. In practice Adam is currently recommended as the default algorithm to use, and often works slightly better than RMSProp. For more information on optimization see [CS231n - Learning](http://cs231n.github.io/neural-networks-3/#ada)."
   ]
  },
  {
   "cell_type": "code",
   "execution_count": 36,
   "metadata": {
    "collapsed": true
   },
   "outputs": [],
   "source": [
    "# Global step is required to compute the decayed learning rate\n",
    "global_step = tf.Variable(0, trainable=False)\n",
    "\n",
    "starter_learning_rate = 0.1\n",
    "\n",
    "# Apply exponential decay to the learning rate\n",
    "learning_rate = tf.train.exponential_decay(starter_learning_rate, global_step, 100000, 0.96, staircase=True)\n",
    "\n",
    "# Construct a new Adam optimizer\n",
    "optimizer = tf.train.AdamOptimizer(learning_rate).minimize(cost, global_step=global_step)"
   ]
  },
  {
   "cell_type": "markdown",
   "metadata": {},
   "source": [
    "### Evaluation Metric\n",
    "\n",
    "To evaluate the performance of our Convolutional Network we calculate the average accuracy across all samples"
   ]
  },
  {
   "cell_type": "code",
   "execution_count": 37,
   "metadata": {
    "collapsed": false
   },
   "outputs": [],
   "source": [
    "# Predicted class equals the true class of each image?\n",
    "correct_prediction = tf.equal(y_pred_cls, y_true_cls)\n",
    "\n",
    "# Cast predictions to float and calculate the mean\n",
    "accuracy = tf.reduce_mean(tf.cast(correct_prediction, tf.float32))"
   ]
  },
  {
   "cell_type": "markdown",
   "metadata": {},
   "source": [
    "## Execution Phase"
   ]
  },
  {
   "cell_type": "markdown",
   "metadata": {},
   "source": [
    "### Create TensorFlow Session\n",
    "\n",
    "Once the TensorFlow graph has been created, we have to create a TensorFlow session which is used to execute the graph."
   ]
  },
  {
   "cell_type": "code",
   "execution_count": 38,
   "metadata": {
    "collapsed": false
   },
   "outputs": [
    {
     "data": {
      "text/plain": [
       "<tensorflow.python.client.session.Session at 0x1bb094250>"
      ]
     },
     "execution_count": 38,
     "metadata": {},
     "output_type": "execute_result"
    }
   ],
   "source": [
    "session = tf.Session()"
   ]
  },
  {
   "cell_type": "markdown",
   "metadata": {},
   "source": [
    "The variables for weights and biases must be initialized before we start optimizing them."
   ]
  },
  {
   "cell_type": "code",
   "execution_count": 39,
   "metadata": {
    "collapsed": false
   },
   "outputs": [],
   "source": [
    "session.run(tf.initialize_all_variables())"
   ]
  },
  {
   "cell_type": "markdown",
   "metadata": {},
   "source": [
    "#### Generation of summaries\n",
    "\n",
    "The FileWriter class provides a mechanism to create an event file in a given directory and add summaries and events to it. The class updates the file contents asynchronously. This allows a training program to call methods to add data to the file directly from the training loop, without slowing down training."
   ]
  },
  {
   "cell_type": "code",
   "execution_count": null,
   "metadata": {
    "collapsed": true
   },
   "outputs": [],
   "source": [
    "LOG_DIR = 'logs'\n",
    "\n",
    "# Create a summary for our loss and accuracy\n",
    "tf.summary.scalar(\"loss\", loss)\n",
    "tf.summary.scalar(\"accuracy\", accuracy)\n",
    "\n",
    "# Merge all the summaries\n",
    "merged = tf.summary.merge_all()\n",
    "\n",
    "# Create a summary writer, add the 'graph' to the event file.\n",
    "train_writer = tf.summary.FileWriter(LOG_DIR + '/svhn_single_1_train', session.graph)\n",
    "test_writer = tf.summary.FileWriter(LOG_DIR + '/svhn_single_2_test')\n",
    "\n",
    "# Write log\n",
    "train_writer.add_summary(summary, total_iterations)\n",
    "test_writer.add_summary(summary, total_iterations)\n",
    "\n",
    "# Close the log files\n",
    "train_writer.close()\n",
    "test_writer.close()"
   ]
  },
  {
   "cell_type": "markdown",
   "metadata": {},
   "source": [
    "### Saver\n",
    "\n",
    "In order to save the variables of the neural network, we now create a so-called Saver-object which is used for storing and retrieving all the variables of the TensorFlow graph. The saved files are often called checkpoints because they may be written at regular intervals during optimization.\n",
    "This is the directory used for saving and retrieving the data."
   ]
  },
  {
   "cell_type": "code",
   "execution_count": 46,
   "metadata": {
    "collapsed": false
   },
   "outputs": [],
   "source": [
    "saver = tf.train.Saver()\n",
    "\n",
    "save_dir = 'checkpoints/'\n",
    "\n",
    "# Create directory if it does not exist\n",
    "if not os.path.exists(save_dir):\n",
    "    os.makedirs(save_dir)\n",
    "    \n",
    "save_path = os.path.join(save_dir, 'svhn_single_greyscale')"
   ]
  },
  {
   "cell_type": "markdown",
   "metadata": {},
   "source": [
    "#### Restoring a Previous Session\n",
    "\n",
    "Re-load all the variables that were saved to file during previous optimization (if any)."
   ]
  },
  {
   "cell_type": "code",
   "execution_count": null,
   "metadata": {
    "collapsed": true
   },
   "outputs": [],
   "source": [
    "saver.restore(sess=session, save_path=save_path)"
   ]
  },
  {
   "cell_type": "markdown",
   "metadata": {},
   "source": [
    "### Helper function for executing the learning process\n",
    "\n",
    "There are 600,000 images in the training-set. It takes a long time to calculate the gradient of the model using all these images. We therefore only use a small batch of images in each iteration of the optimizer. Additionally we must select a keep probability for our dropout tensor. The value of p=0.5 is a reasonable default, but this can be tuned on validation data. \n",
    "\n",
    "Remember: Dropout should only be introduced during training, not evaluation, otherwise your evaluation results would be stochastic as well."
   ]
  },
  {
   "cell_type": "code",
   "execution_count": 40,
   "metadata": {
    "collapsed": true
   },
   "outputs": [],
   "source": [
    "# Number of training samples in each iteration \n",
    "train_batch_size = 64\n",
    "\n",
    "# With probability 1 / keep prob output the input element, otherwise 0\n",
    "keep_prob = 0.5"
   ]
  },
  {
   "cell_type": "markdown",
   "metadata": {},
   "source": [
    "In each iteration, a new batch of data is selected from the training-set and then TensorFlow executes the optimizer using those training samples."
   ]
  },
  {
   "cell_type": "code",
   "execution_count": 42,
   "metadata": {
    "collapsed": true
   },
   "outputs": [],
   "source": [
    "total_iterations = 0\n",
    "\n",
    "def optimize(num_iterations, display_step):\n",
    "    \n",
    "    # Ensure we update the global variable rather than a local copy.\n",
    "    global total_iterations\n",
    "\n",
    "    # Start-time used for printing time-usage below.\n",
    "    start_time = time.time()\n",
    "\n",
    "    for i in range(total_iterations, total_iterations + num_iterations):\n",
    "\n",
    "        offset = (step * batch_size) % (y_train.shape[0] - batch_size)\n",
    "        \n",
    "        x_batch = X_train[offset:(offset + batch_size), :, :, :]\n",
    "        y_batch = y_train[offset:(offset + batch_size), :]\n",
    "        \n",
    "        # Put the batch into a dict with the proper names\n",
    "        feed_dict_train = {x: x_batch, y_true: y_true_batch, keep_prob: keep_prob}\n",
    "\n",
    "        # Run the optimizer using this batch of training data.\n",
    "        session.run(optimizer, feed_dict=feed_dict_train)\n",
    "\n",
    "        # Print status every display_step\n",
    "        if i % display_step == 0:\n",
    "            \n",
    "            # Calculate the accuracy on the training-set.\n",
    "            batch_acc = session.run(accuracy, feed_dict=feed_dict_train)\n",
    "            print(\"Minibatch accuracy at step %d: %.4f\" % (i, batch_acc))\n",
    "            \n",
    "            # Calculate the accuracy on the validation-set\n",
    "            validation_acc = session.run(accuracy, {x: X_val, y_true: y_val, keep_prob: 1.})\n",
    "            print(\"Validation accuracy: %.4f\" % validation_acc)\n",
    "\n",
    "    # Update the total number of iterations performed.\n",
    "    total_iterations += num_iterations\n",
    "\n",
    "    # Difference between start and end-times.\n",
    "    time_dif = time.time() - start_time\n",
    "    \n",
    "    # Calculate the accuracy on the test-set\n",
    "    test_accuracy = session.run(accuracy, {x: X_test, y_true: y_test, keep_prob: 1.})\n",
    "    \n",
    "    print(\"Test accuracy: %.4f\" % test_accuracy)\n",
    "    print(\"Time usage: \" + str(timedelta(seconds=int(round(time_dif)))))"
   ]
  },
  {
   "cell_type": "markdown",
   "metadata": {},
   "source": [
    "Let's run 10,000 iterations and see if our model works."
   ]
  },
  {
   "cell_type": "code",
   "execution_count": 43,
   "metadata": {
    "collapsed": false
   },
   "outputs": [
    {
     "name": "stdout",
     "output_type": "stream",
     "text": [
      "Minibatch accuracy at step 0: 0.1875\n",
      "Validation accuracy: 0.1000\n",
      "Minibatch accuracy at step 2500: 0.9062\n",
      "Validation accuracy: 0.7202\n",
      "Minibatch accuracy at step 5000: 0.9844\n",
      "Validation accuracy: 0.7795\n",
      "Minibatch accuracy at step 7500: 0.9219\n",
      "Validation accuracy: 0.8203\n",
      "Minibatch accuracy at step 10000: 0.9375\n",
      "Validation accuracy: 0.8315\n",
      "Minibatch accuracy at step 12500: 0.9219\n",
      "Validation accuracy: 0.8412\n",
      "Minibatch accuracy at step 15000: 0.9844\n",
      "Validation accuracy: 0.8500\n",
      "Minibatch accuracy at step 17500: 0.9531\n",
      "Validation accuracy: 0.8532\n",
      "Minibatch accuracy at step 20000: 0.9844\n",
      "Validation accuracy: 0.8635\n",
      "Minibatch accuracy at step 22500: 0.9531\n",
      "Validation accuracy: 0.8648\n",
      "Minibatch accuracy at step 25000: 0.9844\n",
      "Validation accuracy: 0.8652\n",
      "Minibatch accuracy at step 27500: 0.9688\n",
      "Validation accuracy: 0.8642\n",
      "Minibatch accuracy at step 30000: 0.9844\n",
      "Validation accuracy: 0.8648\n",
      "Minibatch accuracy at step 32500: 0.9219\n",
      "Validation accuracy: 0.8752\n",
      "Minibatch accuracy at step 35000: 0.9219\n",
      "Validation accuracy: 0.8738\n",
      "Minibatch accuracy at step 37500: 0.9219\n",
      "Validation accuracy: 0.8822\n",
      "Minibatch accuracy at step 40000: 0.9531\n",
      "Validation accuracy: 0.8800\n",
      "Minibatch accuracy at step 42500: 0.9688\n",
      "Validation accuracy: 0.8868\n",
      "Minibatch accuracy at step 45000: 0.9375\n",
      "Validation accuracy: 0.8863\n",
      "Minibatch accuracy at step 47500: 0.9062\n",
      "Validation accuracy: 0.8843\n",
      "Minibatch accuracy at step 50000: 0.9688\n",
      "Validation accuracy: 0.8897\n",
      "Minibatch accuracy at step 52500: 1.0000\n",
      "Validation accuracy: 0.8880\n",
      "Minibatch accuracy at step 55000: 0.9844\n",
      "Validation accuracy: 0.8902\n",
      "Minibatch accuracy at step 57500: 0.9844\n",
      "Validation accuracy: 0.8923\n",
      "Minibatch accuracy at step 60000: 0.9844\n",
      "Validation accuracy: 0.8948\n",
      "Minibatch accuracy at step 62500: 0.9531\n",
      "Validation accuracy: 0.8923\n",
      "Minibatch accuracy at step 65000: 1.0000\n",
      "Validation accuracy: 0.8952\n",
      "Minibatch accuracy at step 67500: 0.9844\n",
      "Validation accuracy: 0.8942\n",
      "Minibatch accuracy at step 70000: 0.9688\n",
      "Validation accuracy: 0.8927\n",
      "Minibatch accuracy at step 72500: 0.9844\n",
      "Validation accuracy: 0.8927\n",
      "Minibatch accuracy at step 75000: 0.9688\n",
      "Validation accuracy: 0.8965\n",
      "Minibatch accuracy at step 77500: 0.9531\n",
      "Validation accuracy: 0.8953\n",
      "Minibatch accuracy at step 80000: 0.9375\n",
      "Validation accuracy: 0.8950\n",
      "Minibatch accuracy at step 82500: 0.9375\n",
      "Validation accuracy: 0.8998\n",
      "Minibatch accuracy at step 85000: 0.9844\n",
      "Validation accuracy: 0.8973\n",
      "Minibatch accuracy at step 87500: 0.9375\n",
      "Validation accuracy: 0.8958\n",
      "Minibatch accuracy at step 90000: 1.0000\n",
      "Validation accuracy: 0.8950\n",
      "Minibatch accuracy at step 92500: 0.9219\n",
      "Validation accuracy: 0.8982\n",
      "Minibatch accuracy at step 95000: 0.9688\n",
      "Validation accuracy: 0.9010\n",
      "Minibatch accuracy at step 97500: 0.9531\n",
      "Validation accuracy: 0.8952\n",
      "Test accuracy: 0.9037\n",
      "Time usage: 2:08:44\n"
     ]
    }
   ],
   "source": [
    "optimize(num_iterations=10000, display_step=500)"
   ]
  },
  {
   "cell_type": "markdown",
   "metadata": {},
   "source": [
    "As we can see the permance slowly but surely increases, which is good! Let's run an additional 200,000 iterations and see how well our model is performing"
   ]
  },
  {
   "cell_type": "code",
   "execution_count": null,
   "metadata": {
    "collapsed": true
   },
   "outputs": [],
   "source": [
    "optimize(num_iterations=200000, display_step=10000)"
   ]
  },
  {
   "cell_type": "markdown",
   "metadata": {},
   "source": [
    " Let's save all variables of the TensorFlow graph to file."
   ]
  },
  {
   "cell_type": "code",
   "execution_count": 48,
   "metadata": {
    "collapsed": false
   },
   "outputs": [
    {
     "data": {
      "text/plain": [
       "'checkpoints/svhn_single_greyscale'"
      ]
     },
     "execution_count": 48,
     "metadata": {},
     "output_type": "execute_result"
    }
   ],
   "source": [
    "saver.save(sess=session, save_path=save_path)"
   ]
  },
  {
   "cell_type": "markdown",
   "metadata": {},
   "source": [
    "### Model evaluation\n",
    "\n",
    "Let's plot some of the mis-classified examples in our testset and a confusion matrix showing how well our model is able to predict the different digits."
   ]
  },
  {
   "cell_type": "code",
   "execution_count": 49,
   "metadata": {
    "collapsed": false
   },
   "outputs": [],
   "source": [
    "# Generate predictions for the testset\n",
    "test_pred = session.run(y_pred_cls, feed_dict={x: X_test, y_true:y_test})"
   ]
  },
  {
   "cell_type": "markdown",
   "metadata": {},
   "source": [
    "Let's find some incorrectly classified examples and plot the true and predicted label values"
   ]
  },
  {
   "cell_type": "code",
   "execution_count": 52,
   "metadata": {
    "collapsed": false
   },
   "outputs": [
    {
     "data": {
      "image/png": "[encoded data removed]",
      "text/plain": [
       "<matplotlib.figure.Figure at 0x1bb0a3910>"
      ]
     },
     "metadata": {},
     "output_type": "display_data"
    }
   ],
   "source": [
    "# Find the incorrectly classified examples\n",
    "incorrect = test_pred != np.argmax(y_test, axis=1)\n",
    "\n",
    "# Select the incorrectly classified examples\n",
    "images = X_test[incorrect]\n",
    "cls_true = y_test[incorrect]\n",
    "cls_pred = test_pred[incorrect]\n",
    "\n",
    "# Plot the mis-classified examples\n",
    "plot_images(images, 3, 6, cls_true, cls_pred);"
   ]
  },
  {
   "cell_type": "markdown",
   "metadata": {},
   "source": [
    "... and some correctly classified examples."
   ]
  },
  {
   "cell_type": "code",
   "execution_count": null,
   "metadata": {
    "collapsed": true
   },
   "outputs": [],
   "source": [
    "# Find the incorrectly classified examples\n",
    "correct = np.invert(incorrect)\n",
    "\n",
    "# Select the correctly classified examples\n",
    "images = X_test[correct]\n",
    "cls_true = y_test[correct]\n",
    "cls_pred = test_pred[correct]\n",
    "\n",
    "# Plot the mis-classified examples\n",
    "plot_images(images, 3, 6, cls_true, cls_pred);"
   ]
  },
  {
   "cell_type": "markdown",
   "metadata": {},
   "source": [
    "We can also plot a [``confusion matrix``](http://scikit-learn.org/stable/modules/generated/sklearn.metrics.confusion_matrix.html) to show how well our model is able to predict the different class values"
   ]
  },
  {
   "cell_type": "code",
   "execution_count": 53,
   "metadata": {
    "collapsed": false
   },
   "outputs": [
    {
     "data": {
      "image/png": "[encoded data removed]",
      "text/plain": [
       "<matplotlib.figure.Figure at 0x12a830c50>"
      ]
     },
     "metadata": {},
     "output_type": "display_data"
    }
   ],
   "source": [
    "from sklearn.metrics import confusion_matrix\n",
    "\n",
    "# Set the figure size\n",
    "plt.figure(figsize=(12, 8))\n",
    "\n",
    "# Calculate the confusion matrix\n",
    "cm = confusion_matrix(y_true=np.argmax(y_test, axis=1), y_pred=test_pred)\n",
    "\n",
    "# Normalize the confusion matrix\n",
    "cm = cm.astype('float') / cm.sum(axis=1)[:, np.newaxis] * 100.0\n",
    "\n",
    "# Visualize the confusion matrix\n",
    "sns.heatmap(cm, annot=True, cmap='Reds', fmt='.1f', square=True);"
   ]
  }
 ],
 "metadata": {
  "kernelspec": {
   "display_name": "Python 2",
   "language": "python",
   "name": "python2"
  },
  "language_info": {
   "codemirror_mode": {
    "name": "ipython",
    "version": 2
   },
   "file_extension": ".py",
   "mimetype": "text/x-python",
   "name": "python",
   "nbconvert_exporter": "python",
   "pygments_lexer": "ipython2",
   "version": "2.7.11"
  }
 },
 "nbformat": 4,
 "nbformat_minor": 0
}
